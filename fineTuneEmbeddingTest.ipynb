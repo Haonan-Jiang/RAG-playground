{
 "cells": [
  {
   "cell_type": "code",
   "execution_count": 1,
   "metadata": {},
   "outputs": [
    {
     "name": "stderr",
     "output_type": "stream",
     "text": [
      "C:\\Users\\solow\\AppData\\Local\\Temp\\ipykernel_90628\\2104248649.py:11: MarkupResemblesLocatorWarning: The input looks more like a filename than markup. You may want to open this file and pass the filehandle into Beautiful Soup.\n",
      "  df['point_content'] = df['point_content'].apply(lambda x: BeautifulSoup(x, 'html.parser').get_text())\n"
     ]
    },
    {
     "data": {
      "text/html": [
       "<div>\n",
       "<style scoped>\n",
       "    .dataframe tbody tr th:only-of-type {\n",
       "        vertical-align: middle;\n",
       "    }\n",
       "\n",
       "    .dataframe tbody tr th {\n",
       "        vertical-align: top;\n",
       "    }\n",
       "\n",
       "    .dataframe thead th {\n",
       "        text-align: right;\n",
       "    }\n",
       "</style>\n",
       "<table border=\"1\" class=\"dataframe\">\n",
       "  <thead>\n",
       "    <tr style=\"text-align: right;\">\n",
       "      <th></th>\n",
       "      <th>point_name</th>\n",
       "      <th>point_content</th>\n",
       "    </tr>\n",
       "  </thead>\n",
       "  <tbody>\n",
       "    <tr>\n",
       "      <th>0</th>\n",
       "      <td>载波从节点</td>\n",
       "      <td>采集器或计量点（电能表）所在的载波节点。</td>\n",
       "    </tr>\n",
       "    <tr>\n",
       "      <th>1</th>\n",
       "      <td>电容器</td>\n",
       "      <td>用来提供电容的器件。</td>\n",
       "    </tr>\n",
       "    <tr>\n",
       "      <th>2</th>\n",
       "      <td>供电客户服务</td>\n",
       "      <td>电力供应过程中，企业为满足客户获得和使用电力产品的各种相关需求的一系列活动的总称。</td>\n",
       "    </tr>\n",
       "    <tr>\n",
       "      <th>3</th>\n",
       "      <td>从节点附属节点</td>\n",
       "      <td>指与从节点具有绑定关系的附加设备，简称附属节点。</td>\n",
       "    </tr>\n",
       "    <tr>\n",
       "      <th>4</th>\n",
       "      <td>供电客户服务渠道</td>\n",
       "      <td>供电企业与客户进行交互、提供服务的具体途径。以下简称“服务渠道”。</td>\n",
       "    </tr>\n",
       "  </tbody>\n",
       "</table>\n",
       "</div>"
      ],
      "text/plain": [
       "  point_name                              point_content\n",
       "0      载波从节点                       采集器或计量点（电能表）所在的载波节点。\n",
       "1        电容器                                 用来提供电容的器件。\n",
       "2     供电客户服务  电力供应过程中，企业为满足客户获得和使用电力产品的各种相关需求的一系列活动的总称。\n",
       "3    从节点附属节点                   指与从节点具有绑定关系的附加设备，简称附属节点。\n",
       "4   供电客户服务渠道          供电企业与客户进行交互、提供服务的具体途径。以下简称“服务渠道”。"
      ]
     },
     "execution_count": 1,
     "metadata": {},
     "output_type": "execute_result"
    }
   ],
   "source": [
    "# data preprocessing\n",
    "import pandas as pd\n",
    "import numpy as np\n",
    "\n",
    "# load xlsx file\n",
    "df = pd.read_excel('citiao.xlsx')\n",
    "# keep only point_name, item_id_cate, point_content, from_name\n",
    "df = df[['point_name','point_content']]\n",
    "# remove html tags\n",
    "from bs4 import BeautifulSoup\n",
    "df['point_content'] = df['point_content'].apply(lambda x: BeautifulSoup(x, 'html.parser').get_text())\n",
    "df.head()"
   ]
  },
  {
   "cell_type": "code",
   "execution_count": 2,
   "metadata": {},
   "outputs": [
    {
     "data": {
      "application/vnd.jupyter.widget-view+json": {
       "model_id": "c949dfbe0da2436cb6bdaea8acb6918d",
       "version_major": 2,
       "version_minor": 0
      },
      "text/plain": [
       "Map:   0%|          | 0/2960 [00:00<?, ? examples/s]"
      ]
     },
     "metadata": {},
     "output_type": "display_data"
    },
    {
     "data": {
      "application/vnd.jupyter.widget-view+json": {
       "model_id": "756a3abe8bf8432ca0490831a83a5de5",
       "version_major": 2,
       "version_minor": 0
      },
      "text/plain": [
       "Creating json from Arrow format:   0%|          | 0/3 [00:00<?, ?ba/s]"
      ]
     },
     "metadata": {},
     "output_type": "display_data"
    },
    {
     "data": {
      "application/vnd.jupyter.widget-view+json": {
       "model_id": "ab33cb092cde4bbfaf2bc682306c2636",
       "version_major": 2,
       "version_minor": 0
      },
      "text/plain": [
       "Creating json from Arrow format:   0%|          | 0/1 [00:00<?, ?ba/s]"
      ]
     },
     "metadata": {},
     "output_type": "display_data"
    },
    {
     "data": {
      "text/plain": [
       "98009"
      ]
     },
     "execution_count": 2,
     "metadata": {},
     "output_type": "execute_result"
    }
   ],
   "source": [
    "import torch\n",
    "from datasets import Dataset, load_dataset, concatenate_datasets\n",
    "\n",
    "# 1. Create & Prepare embedding dataset\n",
    "\n",
    "# Load your dataset (replace with your actual dataset loading method)\n",
    "dataset = Dataset.from_pandas(df)\n",
    "\n",
    "# Convert term-definition pairs to Q&A format\n",
    "def convert_to_qa(example):\n",
    "    return {\n",
    "        \"question\": f\"什么是 {example['point_name']}?\",\n",
    "        \"answer\": example['point_content']\n",
    "    }\n",
    "\n",
    "dataset = dataset.map(convert_to_qa)\n",
    "\n",
    "# Rename columns\n",
    "dataset = dataset.rename_column(\"question\", \"anchor\")\n",
    "dataset = dataset.rename_column(\"answer\", \"positive\")\n",
    "\n",
    "# delete columns\n",
    "dataset = dataset.remove_columns([\"point_name\", \"point_content\"])\n",
    "\n",
    "# Add an id column to the dataset\n",
    "dataset = dataset.add_column(\"id\", range(len(dataset)))\n",
    "\n",
    "# Split dataset into a 10% test set\n",
    "dataset = dataset.train_test_split(test_size=0.1)\n",
    "\n",
    "# Save datasets to disk\n",
    "dataset[\"train\"].to_json(\"train_dataset.json\", orient=\"records\")\n",
    "dataset[\"test\"].to_json(\"test_dataset.json\", orient=\"records\")"
   ]
  },
  {
   "cell_type": "code",
   "execution_count": 3,
   "metadata": {},
   "outputs": [
    {
     "name": "stderr",
     "output_type": "stream",
     "text": [
      "c:\\Users\\solow\\AppData\\Local\\Programs\\Python\\Python311\\Lib\\site-packages\\torch\\_utils.py:831: UserWarning: TypedStorage is deprecated. It will be removed in the future and UntypedStorage will be the only storage class. This should only matter to you if you are using storages directly.  To access UntypedStorage directly, use tensor.untyped_storage() instead of tensor.storage()\n",
      "  return self.fget.__get__(instance, owner)()\n"
     ]
    },
    {
     "data": {
      "application/vnd.jupyter.widget-view+json": {
       "model_id": "65b5374855864d3ba316f0d5705084f3",
       "version_major": 2,
       "version_minor": 0
      },
      "text/plain": [
       "Generating train split: 0 examples [00:00, ? examples/s]"
      ]
     },
     "metadata": {},
     "output_type": "display_data"
    },
    {
     "data": {
      "application/vnd.jupyter.widget-view+json": {
       "model_id": "c12eecc7b82040e0ac1e778810b3d296",
       "version_major": 2,
       "version_minor": 0
      },
      "text/plain": [
       "Generating train split: 0 examples [00:00, ? examples/s]"
      ]
     },
     "metadata": {},
     "output_type": "display_data"
    },
    {
     "name": "stdout",
     "output_type": "stream",
     "text": [
      "Baseline Results:\n",
      "dim_768_cosine_ndcg@10: 0.5315972259369834\n",
      "dim_512_cosine_ndcg@10: 0.5221719774892145\n",
      "dim_256_cosine_ndcg@10: 0.5266728324925485\n",
      "dim_128_cosine_ndcg@10: 0.5067767666832826\n",
      "dim_64_cosine_ndcg@10: 0.4465020550092783\n"
     ]
    }
   ],
   "source": [
    "from sentence_transformers import (\n",
    "    SentenceTransformer,\n",
    "    SentenceTransformerModelCardData,\n",
    "    SentenceTransformerTrainingArguments,\n",
    "    SentenceTransformerTrainer,\n",
    "    losses\n",
    ")\n",
    "from sentence_transformers.evaluation import (\n",
    "    InformationRetrievalEvaluator,\n",
    "    SequentialEvaluator,\n",
    ")\n",
    "from sentence_transformers.util import cos_sim\n",
    "from sentence_transformers.training_args import BatchSamplers\n",
    "# 2. Create baseline and evaluate pretrained model\n",
    "\n",
    "model_id = \"lier007/xiaobu-embedding-v2\"\n",
    "matryoshka_dimensions = [768, 512, 256, 128, 64]  # Adjust if necessary based on the model's capabilities\n",
    "\n",
    "# Load the model\n",
    "model = SentenceTransformer(\n",
    "    model_id,\n",
    "    device=\"cuda\" if torch.cuda.is_available() else \"cpu\",\n",
    "    model_card_data=SentenceTransformerModelCardData(\n",
    "        language=\"en\",\n",
    "        license=\"apache-2.0\",\n",
    "        model_name=\"Xiaobu Embedding V2 QA Matryoshka\",\n",
    "    ),\n",
    ")\n",
    "\n",
    "# Load test dataset\n",
    "test_dataset = load_dataset(\"json\", data_files=\"test_dataset.json\", split=\"train\")\n",
    "train_dataset = load_dataset(\"json\", data_files=\"train_dataset.json\", split=\"train\")\n",
    "corpus_dataset = concatenate_datasets([train_dataset, test_dataset])\n",
    "\n",
    "# Convert the datasets to dictionaries\n",
    "corpus = dict(zip(corpus_dataset[\"id\"], corpus_dataset[\"positive\"]))\n",
    "queries = dict(zip(test_dataset[\"id\"], test_dataset[\"anchor\"]))\n",
    "\n",
    "# Create a mapping of relevant document (1 in our case) for each query\n",
    "relevant_docs = {q_id: [q_id] for q_id in queries}\n",
    "\n",
    "matryoshka_evaluators = []\n",
    "# Iterate over the different dimensions\n",
    "for dim in matryoshka_dimensions:\n",
    "    ir_evaluator = InformationRetrievalEvaluator(\n",
    "        queries=queries,\n",
    "        corpus=corpus,\n",
    "        relevant_docs=relevant_docs,\n",
    "        name=f\"dim_{dim}\",\n",
    "        truncate_dim=dim,\n",
    "        score_functions={\"cosine\": cos_sim},\n",
    "    )\n",
    "    matryoshka_evaluators.append(ir_evaluator)\n",
    "\n",
    "# Create a sequential evaluator\n",
    "evaluator = SequentialEvaluator(matryoshka_evaluators)\n",
    "\n",
    "# Evaluate the pretrained model\n",
    "results = evaluator(model)\n",
    "\n",
    "print(\"Baseline Results:\")\n",
    "for dim in matryoshka_dimensions:\n",
    "    key = f\"dim_{dim}_cosine_ndcg@10\"\n",
    "    print(f\"{key}: {results[key]}\")"
   ]
  },
  {
   "cell_type": "code",
   "execution_count": 4,
   "metadata": {},
   "outputs": [
    {
     "data": {
      "application/vnd.jupyter.widget-view+json": {
       "model_id": "25374f413c334d838023af20f3670582",
       "version_major": 2,
       "version_minor": 0
      },
      "text/plain": [
       "  0%|          | 0/20 [00:00<?, ?it/s]"
      ]
     },
     "metadata": {},
     "output_type": "display_data"
    },
    {
     "name": "stdout",
     "output_type": "stream",
     "text": [
      "{'eval_dim_768_cosine_accuracy@1': 0.4358108108108108, 'eval_dim_768_cosine_accuracy@3': 0.6351351351351351, 'eval_dim_768_cosine_accuracy@5': 0.7128378378378378, 'eval_dim_768_cosine_accuracy@10': 0.8074324324324325, 'eval_dim_768_cosine_precision@1': 0.4358108108108108, 'eval_dim_768_cosine_precision@3': 0.2117117117117117, 'eval_dim_768_cosine_precision@5': 0.14256756756756755, 'eval_dim_768_cosine_precision@10': 0.08074324324324324, 'eval_dim_768_cosine_recall@1': 0.4358108108108108, 'eval_dim_768_cosine_recall@3': 0.6351351351351351, 'eval_dim_768_cosine_recall@5': 0.7128378378378378, 'eval_dim_768_cosine_recall@10': 0.8074324324324325, 'eval_dim_768_cosine_ndcg@10': 0.6151730383055712, 'eval_dim_768_cosine_mrr@10': 0.5542819605319604, 'eval_dim_768_cosine_map@100': 0.5614997143794617, 'eval_dim_512_cosine_accuracy@1': 0.42567567567567566, 'eval_dim_512_cosine_accuracy@3': 0.6351351351351351, 'eval_dim_512_cosine_accuracy@5': 0.7195945945945946, 'eval_dim_512_cosine_accuracy@10': 0.793918918918919, 'eval_dim_512_cosine_precision@1': 0.42567567567567566, 'eval_dim_512_cosine_precision@3': 0.2117117117117117, 'eval_dim_512_cosine_precision@5': 0.1439189189189189, 'eval_dim_512_cosine_precision@10': 0.07939189189189189, 'eval_dim_512_cosine_recall@1': 0.42567567567567566, 'eval_dim_512_cosine_recall@3': 0.6351351351351351, 'eval_dim_512_cosine_recall@5': 0.7195945945945946, 'eval_dim_512_cosine_recall@10': 0.793918918918919, 'eval_dim_512_cosine_ndcg@10': 0.6077535437220818, 'eval_dim_512_cosine_mrr@10': 0.5481298262548261, 'eval_dim_512_cosine_map@100': 0.5565539082591494, 'eval_dim_256_cosine_accuracy@1': 0.4189189189189189, 'eval_dim_256_cosine_accuracy@3': 0.6452702702702703, 'eval_dim_256_cosine_accuracy@5': 0.722972972972973, 'eval_dim_256_cosine_accuracy@10': 0.7837837837837838, 'eval_dim_256_cosine_precision@1': 0.4189189189189189, 'eval_dim_256_cosine_precision@3': 0.21509009009009006, 'eval_dim_256_cosine_precision@5': 0.1445945945945946, 'eval_dim_256_cosine_precision@10': 0.07837837837837838, 'eval_dim_256_cosine_recall@1': 0.4189189189189189, 'eval_dim_256_cosine_recall@3': 0.6452702702702703, 'eval_dim_256_cosine_recall@5': 0.722972972972973, 'eval_dim_256_cosine_recall@10': 0.7837837837837838, 'eval_dim_256_cosine_ndcg@10': 0.6007853917098789, 'eval_dim_256_cosine_mrr@10': 0.5419213856713856, 'eval_dim_256_cosine_map@100': 0.5516837542153066, 'eval_dim_128_cosine_accuracy@1': 0.4358108108108108, 'eval_dim_128_cosine_accuracy@3': 0.6283783783783784, 'eval_dim_128_cosine_accuracy@5': 0.7094594594594594, 'eval_dim_128_cosine_accuracy@10': 0.7837837837837838, 'eval_dim_128_cosine_precision@1': 0.4358108108108108, 'eval_dim_128_cosine_precision@3': 0.20945945945945943, 'eval_dim_128_cosine_precision@5': 0.14189189189189186, 'eval_dim_128_cosine_precision@10': 0.07837837837837838, 'eval_dim_128_cosine_recall@1': 0.4358108108108108, 'eval_dim_128_cosine_recall@3': 0.6283783783783784, 'eval_dim_128_cosine_recall@5': 0.7094594594594594, 'eval_dim_128_cosine_recall@10': 0.7837837837837838, 'eval_dim_128_cosine_ndcg@10': 0.6077136483038093, 'eval_dim_128_cosine_mrr@10': 0.551493457743458, 'eval_dim_128_cosine_map@100': 0.5601658465640601, 'eval_dim_64_cosine_accuracy@1': 0.40202702702702703, 'eval_dim_64_cosine_accuracy@3': 0.5912162162162162, 'eval_dim_64_cosine_accuracy@5': 0.6655405405405406, 'eval_dim_64_cosine_accuracy@10': 0.7601351351351351, 'eval_dim_64_cosine_precision@1': 0.40202702702702703, 'eval_dim_64_cosine_precision@3': 0.19707207207207206, 'eval_dim_64_cosine_precision@5': 0.1331081081081081, 'eval_dim_64_cosine_precision@10': 0.07601351351351351, 'eval_dim_64_cosine_recall@1': 0.40202702702702703, 'eval_dim_64_cosine_recall@3': 0.5912162162162162, 'eval_dim_64_cosine_recall@5': 0.6655405405405406, 'eval_dim_64_cosine_recall@10': 0.7601351351351351, 'eval_dim_64_cosine_ndcg@10': 0.5757853103978899, 'eval_dim_64_cosine_mrr@10': 0.5174978549978548, 'eval_dim_64_cosine_map@100': 0.5242992254240176, 'eval_sequential_score': 0.5242992254240176, 'eval_runtime': 104.1044, 'eval_samples_per_second': 0.0, 'eval_steps_per_second': 0.0, 'epoch': 0.95}\n"
     ]
    },
    {
     "data": {
      "application/vnd.jupyter.widget-view+json": {
       "model_id": "fec274dc06b649a5b3b4297dfd12a313",
       "version_major": 2,
       "version_minor": 0
      },
      "text/plain": [
       "Computing widget examples:   0%|          | 0/1 [00:00<?, ?example/s]"
      ]
     },
     "metadata": {},
     "output_type": "display_data"
    },
    {
     "name": "stdout",
     "output_type": "stream",
     "text": [
      "{'loss': 3.2768, 'grad_norm': 8.516111373901367, 'learning_rate': 1.1736481776669307e-05, 'epoch': 1.9}\n",
      "{'eval_dim_768_cosine_accuracy@1': 0.4594594594594595, 'eval_dim_768_cosine_accuracy@3': 0.6554054054054054, 'eval_dim_768_cosine_accuracy@5': 0.7466216216216216, 'eval_dim_768_cosine_accuracy@10': 0.8175675675675675, 'eval_dim_768_cosine_precision@1': 0.4594594594594595, 'eval_dim_768_cosine_precision@3': 0.21846846846846843, 'eval_dim_768_cosine_precision@5': 0.1493243243243243, 'eval_dim_768_cosine_precision@10': 0.08175675675675675, 'eval_dim_768_cosine_recall@1': 0.4594594594594595, 'eval_dim_768_cosine_recall@3': 0.6554054054054054, 'eval_dim_768_cosine_recall@5': 0.7466216216216216, 'eval_dim_768_cosine_recall@10': 0.8175675675675675, 'eval_dim_768_cosine_ndcg@10': 0.636712413310936, 'eval_dim_768_cosine_mrr@10': 0.5789427820677819, 'eval_dim_768_cosine_map@100': 0.5860482941975683, 'eval_dim_512_cosine_accuracy@1': 0.46621621621621623, 'eval_dim_512_cosine_accuracy@3': 0.6621621621621622, 'eval_dim_512_cosine_accuracy@5': 0.75, 'eval_dim_512_cosine_accuracy@10': 0.8175675675675675, 'eval_dim_512_cosine_precision@1': 0.46621621621621623, 'eval_dim_512_cosine_precision@3': 0.22072072072072071, 'eval_dim_512_cosine_precision@5': 0.15, 'eval_dim_512_cosine_precision@10': 0.08175675675675674, 'eval_dim_512_cosine_recall@1': 0.46621621621621623, 'eval_dim_512_cosine_recall@3': 0.6621621621621622, 'eval_dim_512_cosine_recall@5': 0.75, 'eval_dim_512_cosine_recall@10': 0.8175675675675675, 'eval_dim_512_cosine_ndcg@10': 0.6406740884785366, 'eval_dim_512_cosine_mrr@10': 0.5840612934362934, 'eval_dim_512_cosine_map@100': 0.5911112568334903, 'eval_dim_256_cosine_accuracy@1': 0.44932432432432434, 'eval_dim_256_cosine_accuracy@3': 0.6722972972972973, 'eval_dim_256_cosine_accuracy@5': 0.7331081081081081, 'eval_dim_256_cosine_accuracy@10': 0.8243243243243243, 'eval_dim_256_cosine_precision@1': 0.44932432432432434, 'eval_dim_256_cosine_precision@3': 0.22409909909909909, 'eval_dim_256_cosine_precision@5': 0.14662162162162162, 'eval_dim_256_cosine_precision@10': 0.08243243243243242, 'eval_dim_256_cosine_recall@1': 0.44932432432432434, 'eval_dim_256_cosine_recall@3': 0.6722972972972973, 'eval_dim_256_cosine_recall@5': 0.7331081081081081, 'eval_dim_256_cosine_recall@10': 0.8243243243243243, 'eval_dim_256_cosine_ndcg@10': 0.6359779577168644, 'eval_dim_256_cosine_mrr@10': 0.5758459352209352, 'eval_dim_256_cosine_map@100': 0.5827361132161405, 'eval_dim_128_cosine_accuracy@1': 0.44932432432432434, 'eval_dim_128_cosine_accuracy@3': 0.652027027027027, 'eval_dim_128_cosine_accuracy@5': 0.7263513513513513, 'eval_dim_128_cosine_accuracy@10': 0.8108108108108109, 'eval_dim_128_cosine_precision@1': 0.44932432432432434, 'eval_dim_128_cosine_precision@3': 0.21734234234234232, 'eval_dim_128_cosine_precision@5': 0.14527027027027026, 'eval_dim_128_cosine_precision@10': 0.08108108108108109, 'eval_dim_128_cosine_recall@1': 0.44932432432432434, 'eval_dim_128_cosine_recall@3': 0.652027027027027, 'eval_dim_128_cosine_recall@5': 0.7263513513513513, 'eval_dim_128_cosine_recall@10': 0.8108108108108109, 'eval_dim_128_cosine_ndcg@10': 0.6249420384257431, 'eval_dim_128_cosine_mrr@10': 0.5658931252681253, 'eval_dim_128_cosine_map@100': 0.5726704056900258, 'eval_dim_64_cosine_accuracy@1': 0.4189189189189189, 'eval_dim_64_cosine_accuracy@3': 0.6148648648648649, 'eval_dim_64_cosine_accuracy@5': 0.6858108108108109, 'eval_dim_64_cosine_accuracy@10': 0.777027027027027, 'eval_dim_64_cosine_precision@1': 0.4189189189189189, 'eval_dim_64_cosine_precision@3': 0.20495495495495492, 'eval_dim_64_cosine_precision@5': 0.13716216216216215, 'eval_dim_64_cosine_precision@10': 0.0777027027027027, 'eval_dim_64_cosine_recall@1': 0.4189189189189189, 'eval_dim_64_cosine_recall@3': 0.6148648648648649, 'eval_dim_64_cosine_recall@5': 0.6858108108108109, 'eval_dim_64_cosine_recall@10': 0.777027027027027, 'eval_dim_64_cosine_ndcg@10': 0.5937296139316123, 'eval_dim_64_cosine_mrr@10': 0.5356231231231231, 'eval_dim_64_cosine_map@100': 0.5427939149379724, 'eval_sequential_score': 0.5427939149379724, 'eval_runtime': 195.9723, 'eval_samples_per_second': 0.0, 'eval_steps_per_second': 0.0, 'epoch': 1.9}\n",
      "{'eval_dim_768_cosine_accuracy@1': 0.46959459459459457, 'eval_dim_768_cosine_accuracy@3': 0.6621621621621622, 'eval_dim_768_cosine_accuracy@5': 0.7567567567567568, 'eval_dim_768_cosine_accuracy@10': 0.8209459459459459, 'eval_dim_768_cosine_precision@1': 0.46959459459459457, 'eval_dim_768_cosine_precision@3': 0.22072072072072071, 'eval_dim_768_cosine_precision@5': 0.15135135135135133, 'eval_dim_768_cosine_precision@10': 0.08209459459459459, 'eval_dim_768_cosine_recall@1': 0.46959459459459457, 'eval_dim_768_cosine_recall@3': 0.6621621621621622, 'eval_dim_768_cosine_recall@5': 0.7567567567567568, 'eval_dim_768_cosine_recall@10': 0.8209459459459459, 'eval_dim_768_cosine_ndcg@10': 0.6449812685507021, 'eval_dim_768_cosine_mrr@10': 0.5885711604461603, 'eval_dim_768_cosine_map@100': 0.5956803274443908, 'eval_dim_512_cosine_accuracy@1': 0.4560810810810811, 'eval_dim_512_cosine_accuracy@3': 0.668918918918919, 'eval_dim_512_cosine_accuracy@5': 0.7533783783783784, 'eval_dim_512_cosine_accuracy@10': 0.8209459459459459, 'eval_dim_512_cosine_precision@1': 0.4560810810810811, 'eval_dim_512_cosine_precision@3': 0.22297297297297297, 'eval_dim_512_cosine_precision@5': 0.15067567567567566, 'eval_dim_512_cosine_precision@10': 0.08209459459459459, 'eval_dim_512_cosine_recall@1': 0.4560810810810811, 'eval_dim_512_cosine_recall@3': 0.668918918918919, 'eval_dim_512_cosine_recall@5': 0.7533783783783784, 'eval_dim_512_cosine_recall@10': 0.8209459459459459, 'eval_dim_512_cosine_ndcg@10': 0.6397549631627717, 'eval_dim_512_cosine_mrr@10': 0.5814336658086657, 'eval_dim_512_cosine_map@100': 0.5883953814904862, 'eval_dim_256_cosine_accuracy@1': 0.4527027027027027, 'eval_dim_256_cosine_accuracy@3': 0.6891891891891891, 'eval_dim_256_cosine_accuracy@5': 0.75, 'eval_dim_256_cosine_accuracy@10': 0.8344594594594594, 'eval_dim_256_cosine_precision@1': 0.4527027027027027, 'eval_dim_256_cosine_precision@3': 0.22972972972972974, 'eval_dim_256_cosine_precision@5': 0.14999999999999997, 'eval_dim_256_cosine_precision@10': 0.08344594594594593, 'eval_dim_256_cosine_recall@1': 0.4527027027027027, 'eval_dim_256_cosine_recall@3': 0.6891891891891891, 'eval_dim_256_cosine_recall@5': 0.75, 'eval_dim_256_cosine_recall@10': 0.8344594594594594, 'eval_dim_256_cosine_ndcg@10': 0.6445792724669641, 'eval_dim_256_cosine_mrr@10': 0.5837998712998712, 'eval_dim_256_cosine_map@100': 0.590038837079398, 'eval_dim_128_cosine_accuracy@1': 0.44932432432432434, 'eval_dim_128_cosine_accuracy@3': 0.6554054054054054, 'eval_dim_128_cosine_accuracy@5': 0.7263513513513513, 'eval_dim_128_cosine_accuracy@10': 0.8175675675675675, 'eval_dim_128_cosine_precision@1': 0.44932432432432434, 'eval_dim_128_cosine_precision@3': 0.21846846846846843, 'eval_dim_128_cosine_precision@5': 0.14527027027027026, 'eval_dim_128_cosine_precision@10': 0.08175675675675674, 'eval_dim_128_cosine_recall@1': 0.44932432432432434, 'eval_dim_128_cosine_recall@3': 0.6554054054054054, 'eval_dim_128_cosine_recall@5': 0.7263513513513513, 'eval_dim_128_cosine_recall@10': 0.8175675675675675, 'eval_dim_128_cosine_ndcg@10': 0.629883306688525, 'eval_dim_128_cosine_mrr@10': 0.5700839232089232, 'eval_dim_128_cosine_map@100': 0.5768629849175647, 'eval_dim_64_cosine_accuracy@1': 0.40540540540540543, 'eval_dim_64_cosine_accuracy@3': 0.6317567567567568, 'eval_dim_64_cosine_accuracy@5': 0.706081081081081, 'eval_dim_64_cosine_accuracy@10': 0.7905405405405406, 'eval_dim_64_cosine_precision@1': 0.40540540540540543, 'eval_dim_64_cosine_precision@3': 0.21058558558558557, 'eval_dim_64_cosine_precision@5': 0.14121621621621622, 'eval_dim_64_cosine_precision@10': 0.07905405405405405, 'eval_dim_64_cosine_recall@1': 0.40540540540540543, 'eval_dim_64_cosine_recall@3': 0.6317567567567568, 'eval_dim_64_cosine_recall@5': 0.706081081081081, 'eval_dim_64_cosine_recall@10': 0.7905405405405406, 'eval_dim_64_cosine_ndcg@10': 0.5959667042181583, 'eval_dim_64_cosine_mrr@10': 0.5337730587730587, 'eval_dim_64_cosine_map@100': 0.5405999270496604, 'eval_sequential_score': 0.5405999270496604, 'eval_runtime': 117.2666, 'eval_samples_per_second': 0.0, 'eval_steps_per_second': 0.0, 'epoch': 2.86}\n",
      "{'loss': 0.7541, 'grad_norm': 5.426668167114258, 'learning_rate': 0.0, 'epoch': 3.81}\n",
      "{'eval_dim_768_cosine_accuracy@1': 0.46283783783783783, 'eval_dim_768_cosine_accuracy@3': 0.668918918918919, 'eval_dim_768_cosine_accuracy@5': 0.7601351351351351, 'eval_dim_768_cosine_accuracy@10': 0.8243243243243243, 'eval_dim_768_cosine_precision@1': 0.46283783783783783, 'eval_dim_768_cosine_precision@3': 0.22297297297297297, 'eval_dim_768_cosine_precision@5': 0.152027027027027, 'eval_dim_768_cosine_precision@10': 0.08243243243243242, 'eval_dim_768_cosine_recall@1': 0.46283783783783783, 'eval_dim_768_cosine_recall@3': 0.668918918918919, 'eval_dim_768_cosine_recall@5': 0.7601351351351351, 'eval_dim_768_cosine_recall@10': 0.8243243243243243, 'eval_dim_768_cosine_ndcg@10': 0.6441404136461473, 'eval_dim_768_cosine_mrr@10': 0.5862987987987989, 'eval_dim_768_cosine_map@100': 0.5931721097818354, 'eval_dim_512_cosine_accuracy@1': 0.46283783783783783, 'eval_dim_512_cosine_accuracy@3': 0.6722972972972973, 'eval_dim_512_cosine_accuracy@5': 0.7533783783783784, 'eval_dim_512_cosine_accuracy@10': 0.8209459459459459, 'eval_dim_512_cosine_precision@1': 0.46283783783783783, 'eval_dim_512_cosine_precision@3': 0.22409909909909909, 'eval_dim_512_cosine_precision@5': 0.15067567567567566, 'eval_dim_512_cosine_precision@10': 0.08209459459459459, 'eval_dim_512_cosine_recall@1': 0.46283783783783783, 'eval_dim_512_cosine_recall@3': 0.6722972972972973, 'eval_dim_512_cosine_recall@5': 0.7533783783783784, 'eval_dim_512_cosine_recall@10': 0.8209459459459459, 'eval_dim_512_cosine_ndcg@10': 0.6421984510006209, 'eval_dim_512_cosine_mrr@10': 0.5846846846846847, 'eval_dim_512_cosine_map@100': 0.5916916454820329, 'eval_dim_256_cosine_accuracy@1': 0.44256756756756754, 'eval_dim_256_cosine_accuracy@3': 0.6891891891891891, 'eval_dim_256_cosine_accuracy@5': 0.7533783783783784, 'eval_dim_256_cosine_accuracy@10': 0.8378378378378378, 'eval_dim_256_cosine_precision@1': 0.44256756756756754, 'eval_dim_256_cosine_precision@3': 0.22972972972972974, 'eval_dim_256_cosine_precision@5': 0.15067567567567566, 'eval_dim_256_cosine_precision@10': 0.08378378378378377, 'eval_dim_256_cosine_recall@1': 0.44256756756756754, 'eval_dim_256_cosine_recall@3': 0.6891891891891891, 'eval_dim_256_cosine_recall@5': 0.7533783783783784, 'eval_dim_256_cosine_recall@10': 0.8378378378378378, 'eval_dim_256_cosine_ndcg@10': 0.6419187985046627, 'eval_dim_256_cosine_mrr@10': 0.5791827541827541, 'eval_dim_256_cosine_map@100': 0.5852102996736632, 'eval_dim_128_cosine_accuracy@1': 0.44932432432432434, 'eval_dim_128_cosine_accuracy@3': 0.6587837837837838, 'eval_dim_128_cosine_accuracy@5': 0.722972972972973, 'eval_dim_128_cosine_accuracy@10': 0.8175675675675675, 'eval_dim_128_cosine_precision@1': 0.44932432432432434, 'eval_dim_128_cosine_precision@3': 0.2195945945945946, 'eval_dim_128_cosine_precision@5': 0.1445945945945946, 'eval_dim_128_cosine_precision@10': 0.08175675675675674, 'eval_dim_128_cosine_recall@1': 0.44932432432432434, 'eval_dim_128_cosine_recall@3': 0.6587837837837838, 'eval_dim_128_cosine_recall@5': 0.722972972972973, 'eval_dim_128_cosine_recall@10': 0.8175675675675675, 'eval_dim_128_cosine_ndcg@10': 0.6291008044655664, 'eval_dim_128_cosine_mrr@10': 0.5690932003432003, 'eval_dim_128_cosine_map@100': 0.5760466909585453, 'eval_dim_64_cosine_accuracy@1': 0.40540540540540543, 'eval_dim_64_cosine_accuracy@3': 0.6317567567567568, 'eval_dim_64_cosine_accuracy@5': 0.706081081081081, 'eval_dim_64_cosine_accuracy@10': 0.7905405405405406, 'eval_dim_64_cosine_precision@1': 0.40540540540540543, 'eval_dim_64_cosine_precision@3': 0.21058558558558557, 'eval_dim_64_cosine_precision@5': 0.14121621621621622, 'eval_dim_64_cosine_precision@10': 0.07905405405405405, 'eval_dim_64_cosine_recall@1': 0.40540540540540543, 'eval_dim_64_cosine_recall@3': 0.6317567567567568, 'eval_dim_64_cosine_recall@5': 0.706081081081081, 'eval_dim_64_cosine_recall@10': 0.7905405405405406, 'eval_dim_64_cosine_ndcg@10': 0.5969215629192487, 'eval_dim_64_cosine_mrr@10': 0.5348710317460317, 'eval_dim_64_cosine_map@100': 0.5418894449546412, 'eval_sequential_score': 0.5418894449546412, 'eval_runtime': 58.808, 'eval_samples_per_second': 0.0, 'eval_steps_per_second': 0.0, 'epoch': 3.81}\n",
      "{'train_runtime': 2198.7711, 'train_samples_per_second': 4.846, 'train_steps_per_second': 0.009, 'train_loss': 2.015431308746338, 'epoch': 3.81}\n",
      "\n",
      "Fine-tuned Model Results:\n",
      "dim_768_cosine_ndcg@10: 0.6424102741364056\n",
      "dim_512_cosine_ndcg@10: 0.6393126329142195\n",
      "dim_256_cosine_ndcg@10: 0.6431070837810111\n",
      "dim_128_cosine_ndcg@10: 0.629821691269574\n",
      "dim_64_cosine_ndcg@10: 0.5960154707084346\n"
     ]
    }
   ],
   "source": [
    "# 3. Define loss function with Matryoshka Representation\n",
    "\n",
    "inner_train_loss = losses.MultipleNegativesRankingLoss(model)\n",
    "train_loss = losses.MatryoshkaLoss(model, inner_train_loss, matryoshka_dims=matryoshka_dimensions)\n",
    "\n",
    "# 4. Fine-tune embedding model with SentenceTransformersTrainer\n",
    "\n",
    "args = SentenceTransformerTrainingArguments(\n",
    "    output_dir=\"xiaobu-v2-qa-matryoshka\",\n",
    "    num_train_epochs=4,\n",
    "    per_device_train_batch_size=32,\n",
    "    gradient_accumulation_steps=16,\n",
    "    per_device_eval_batch_size=16,\n",
    "    warmup_ratio=0.1,\n",
    "    learning_rate=2e-5,\n",
    "    lr_scheduler_type=\"cosine\",\n",
    "    optim=\"adamw_torch_fused\",\n",
    "    tf32=True,\n",
    "    bf16=True,\n",
    "    batch_sampler=BatchSamplers.NO_DUPLICATES,\n",
    "    eval_strategy=\"epoch\",\n",
    "    save_strategy=\"epoch\",\n",
    "    logging_steps=10,\n",
    "    save_total_limit=3,\n",
    "    load_best_model_at_end=True,\n",
    "    metric_for_best_model=\"eval_dim_128_cosine_ndcg@10\",\n",
    ")\n",
    "\n",
    "trainer = SentenceTransformerTrainer(\n",
    "    model=model,\n",
    "    args=args,\n",
    "    train_dataset=train_dataset.select_columns([\"positive\", \"anchor\"]),\n",
    "    loss=train_loss,\n",
    "    evaluator=evaluator,\n",
    ")\n",
    "\n",
    "# Start training\n",
    "trainer.train()\n",
    "\n",
    "# Save the best model\n",
    "trainer.save_model()\n",
    "\n",
    "# Push model to hub (uncomment if you want to push to Hugging Face Hub)\n",
    "# trainer.model.push_to_hub(\"xiaobu-v2-qa-matryoshka\")\n",
    "\n",
    "# 5. Evaluate fine-tuned model against baseline\n",
    "\n",
    "fine_tuned_model = SentenceTransformer(\n",
    "    args.output_dir, device=\"cuda\" if torch.cuda.is_available() else \"cpu\"\n",
    ")\n",
    "results = evaluator(fine_tuned_model)\n",
    "\n",
    "print(\"\\nFine-tuned Model Results:\")\n",
    "for dim in matryoshka_dimensions:\n",
    "    key = f\"dim_{dim}_cosine_ndcg@10\"\n",
    "    print(f\"{key}: {results[key]}\")"
   ]
  }
 ],
 "metadata": {
  "kernelspec": {
   "display_name": "Python 3",
   "language": "python",
   "name": "python3"
  },
  "language_info": {
   "codemirror_mode": {
    "name": "ipython",
    "version": 3
   },
   "file_extension": ".py",
   "mimetype": "text/x-python",
   "name": "python",
   "nbconvert_exporter": "python",
   "pygments_lexer": "ipython3",
   "version": "3.11.5"
  }
 },
 "nbformat": 4,
 "nbformat_minor": 2
}
