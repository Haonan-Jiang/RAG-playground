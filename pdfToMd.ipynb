{
 "cells": [
  {
   "cell_type": "markdown",
   "metadata": {},
   "source": [
    "# pymupdf"
   ]
  },
  {
   "cell_type": "code",
   "execution_count": 10,
   "metadata": {},
   "outputs": [
    {
     "data": {
      "text/plain": [
       "28"
      ]
     },
     "execution_count": 10,
     "metadata": {},
     "output_type": "execute_result"
    }
   ],
   "source": [
    "import pymupdf4llm\n",
    "\n",
    "md_text = pymupdf4llm.to_markdown(\"data/test_image_bad_table.pdf\")\n",
    "\n",
    "# now work with the markdown text, e.g. store as a UTF8-encoded file\n",
    "import pathlib\n",
    "pathlib.Path(\"output.md\").write_bytes(md_text.encode())"
   ]
  },
  {
   "cell_type": "markdown",
   "metadata": {},
   "source": [
    "# llama-parse"
   ]
  },
  {
   "cell_type": "code",
   "execution_count": 3,
   "metadata": {},
   "outputs": [
    {
     "name": "stdout",
     "output_type": "stream",
     "text": [
      "Started parsing the file under job_id f83e6d25-3ee7-47e4-989d-c76aabb66786\n"
     ]
    }
   ],
   "source": [
    "\n",
    "import nest_asyncio\n",
    "\n",
    "nest_asyncio.apply()\n",
    "\n",
    "from llama_parse import LlamaParse\n",
    "\n",
    "parser = LlamaParse(\n",
    "    api_key=\"llx-HGFLc8DFvsyw7iOjDsGq99w6Z4x9NWpi3Z5ze9Nqs8HE0jzF\",  # can also be set in your env as LLAMA_CLOUD_API_KEY\n",
    "    result_type=\"markdown\",  # \"markdown\" and \"text\" are available\n",
    "    num_workers=4,  # if multiple files passed, split in `num_workers` API calls\n",
    "    verbose=True,\n",
    "    language=\"ch_sim\",  # Optionally you can define a language, default=en\n",
    ")\n",
    "\n",
    "# sync\n",
    "documents = parser.load_data(\"data/test_nromal.pdf\")"
   ]
  },
  {
   "cell_type": "code",
   "execution_count": 7,
   "metadata": {},
   "outputs": [],
   "source": [
    "# save the content of documents to a markdown file\n",
    "with open(\"output/llama-parse/normal.md\", \"w\", encoding=\"utf-8\") as f:\n",
    "    f.write(documents[0].get_content())"
   ]
  },
  {
   "cell_type": "code",
   "execution_count": 8,
   "metadata": {},
   "outputs": [
    {
     "name": "stdout",
     "output_type": "stream",
     "text": [
      "Started parsing the file under job_id b60ae08e-80cd-4ade-a911-488c07e8ec34\n"
     ]
    }
   ],
   "source": [
    "document_table = parser.load_data(\"data/test_table.pdf\")\n",
    "\n",
    "# save the content of documents to a markdown file\n",
    "with open(\"output/llama-parse/table.md\", \"w\", encoding=\"utf-8\") as f:\n",
    "    f.write(document_table[0].get_content())"
   ]
  },
  {
   "cell_type": "code",
   "execution_count": 9,
   "metadata": {},
   "outputs": [
    {
     "name": "stdout",
     "output_type": "stream",
     "text": [
      "Started parsing the file under job_id cd068e2e-b69c-43a7-a725-3502cc9c11b5\n"
     ]
    }
   ],
   "source": [
    "document_table = parser.load_data(\"data/test_image_bad_table.pdf\")\n",
    "\n",
    "# save the content of documents to a markdown file\n",
    "with open(\"output/llama-parse/image.md\", \"w\", encoding=\"utf-8\") as f:\n",
    "    f.write(document_table[0].get_content())"
   ]
  }
 ],
 "metadata": {
  "kernelspec": {
   "display_name": "Python 3",
   "language": "python",
   "name": "python3"
  },
  "language_info": {
   "codemirror_mode": {
    "name": "ipython",
    "version": 3
   },
   "file_extension": ".py",
   "mimetype": "text/x-python",
   "name": "python",
   "nbconvert_exporter": "python",
   "pygments_lexer": "ipython3",
   "version": "3.11.5"
  }
 },
 "nbformat": 4,
 "nbformat_minor": 2
}
